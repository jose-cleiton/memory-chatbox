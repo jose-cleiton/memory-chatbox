{
 "cells": [
  {
   "cell_type": "code",
   "execution_count": 1,
   "metadata": {},
   "outputs": [],
   "source": [
    "import boto3 "
   ]
  },
  {
   "cell_type": "code",
   "execution_count": 2,
   "metadata": {},
   "outputs": [],
   "source": [
    "# Inicializando o cliente DynamoDB\n",
    "dynamodb = boto3.resource('dynamodb')"
   ]
  },
  {
   "cell_type": "code",
   "execution_count": 3,
   "metadata": {},
   "outputs": [],
   "source": [
    " ##Criando a tabela\n",
    "table = dynamodb.create_table(\n",
    "    TableName='memory_chatbot',\n",
    "    KeySchema=[\n",
    "        {\n",
    "            'AttributeName': 'id',\n",
    "            'KeyType': 'HASH'  # Chave primária\n",
    "        }\n",
    "    ],\n",
    "    AttributeDefinitions=[\n",
    "        {\n",
    "            'AttributeName': 'id',\n",
    "            'AttributeType': 'S'  # S = String\n",
    "        }\n",
    "    ],\n",
    "    BillingMode='PAY_PER_REQUEST'  # Billing mode pode ser PROVISIONED ou PAY_PER_REQUEST\n",
    ")\n"
   ]
  },
  {
   "cell_type": "code",
   "execution_count": 4,
   "metadata": {},
   "outputs": [
    {
     "name": "stdout",
     "output_type": "stream",
     "text": [
      "TTL has been enabled for the table.\n"
     ]
    }
   ],
   "source": [
    "# Wait until the table exists.\n",
    "table.meta.client.get_waiter(\"table_exists\").wait(TableName=\"memory_chatbot\")\n",
    "\n",
    "# Define the attribute name for TTL. This must be a top-level attribute, type String, and the value must be in Unix epoch time format.\n",
    "ttl_attribute_name = \"ExpirationTime\"\n",
    "\n",
    "# Update the table to enable TTL.\n",
    "dynamodb.meta.client.update_time_to_live(\n",
    "    TableName=\"memory_chatbot\",\n",
    "    TimeToLiveSpecification={\n",
    "        'Enabled': True,\n",
    "        'AttributeName': ttl_attribute_name\n",
    "    }\n",
    ")\n",
    "\n",
    "print(\"TTL has been enabled for the table.\")"
   ]
  },
  {
   "cell_type": "code",
   "execution_count": 5,
   "metadata": {},
   "outputs": [
    {
     "data": {
      "text/plain": [
       "{'ResponseMetadata': {'RequestId': '5O5CS506G8DVBEQ9J7MVPKSKORVV4KQNSO5AEMVJF66Q9ASUAAJG',\n",
       "  'HTTPStatusCode': 200,\n",
       "  'HTTPHeaders': {'server': 'Server',\n",
       "   'date': 'Thu, 29 Feb 2024 14:10:14 GMT',\n",
       "   'content-type': 'application/x-amz-json-1.0',\n",
       "   'content-length': '2',\n",
       "   'connection': 'keep-alive',\n",
       "   'x-amzn-requestid': '5O5CS506G8DVBEQ9J7MVPKSKORVV4KQNSO5AEMVJF66Q9ASUAAJG',\n",
       "   'x-amz-crc32': '2745614147'},\n",
       "  'RetryAttempts': 0}}"
      ]
     },
     "execution_count": 5,
     "metadata": {},
     "output_type": "execute_result"
    }
   ],
   "source": [
    "import time\n",
    "\n",
    "# Calculate the expiration time as current time + 1 day (86400 seconds)\n",
    "expiration_time = int(time.time()) + 86400\n",
    "\n",
    "# Add an item with TTL\n",
    "table.put_item(\n",
    "    Item={\n",
    "        'id': 'some-session-id',\n",
    "        'ExpirationTime': expiration_time\n",
    "}\n",
    ")"
   ]
  },
  {
   "cell_type": "code",
   "execution_count": null,
   "metadata": {},
   "outputs": [],
   "source": []
  }
 ],
 "metadata": {
  "kernelspec": {
   "display_name": "Python 3",
   "language": "python",
   "name": "python3"
  },
  "language_info": {
   "codemirror_mode": {
    "name": "ipython",
    "version": 3
   },
   "file_extension": ".py",
   "mimetype": "text/x-python",
   "name": "python",
   "nbconvert_exporter": "python",
   "pygments_lexer": "ipython3",
   "version": "3.11.0"
  }
 },
 "nbformat": 4,
 "nbformat_minor": 2
}
